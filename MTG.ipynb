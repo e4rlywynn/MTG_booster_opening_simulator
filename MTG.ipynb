{
 "cells": [
  {
   "cell_type": "code",
   "execution_count": 1,
   "metadata": {
    "ExecuteTime": {
     "end_time": "2020-04-05T20:26:49.189060Z",
     "start_time": "2020-04-05T20:26:49.075174Z"
    }
   },
   "outputs": [],
   "source": [
    "import requests\n",
    "import json\n",
    "import random\n",
    "from tqdm import tqdm_notebook\n",
    "\n",
    "from IPython.display import Image\n",
    "from IPython.core.display import HTML"
   ]
  },
  {
   "cell_type": "code",
   "execution_count": 2,
   "metadata": {
    "ExecuteTime": {
     "end_time": "2020-04-05T20:26:59.735079Z",
     "start_time": "2020-04-05T20:26:49.819634Z"
    }
   },
   "outputs": [],
   "source": [
    "s = requests.Session()\n",
    "all_cards = s.get('https://www.mtgjson.com/files/AllPrintings.json').json()"
   ]
  },
  {
   "cell_type": "code",
   "execution_count": 17,
   "metadata": {
    "ExecuteTime": {
     "end_time": "2020-04-05T21:20:48.041085Z",
     "start_time": "2020-04-05T21:20:48.035349Z"
    }
   },
   "outputs": [],
   "source": [
    "mtg_set = 'M20'\n",
    "set_cards = all_cards[mtg_set]['cards']\n",
    "quality = 'normal'"
   ]
  },
  {
   "cell_type": "code",
   "execution_count": 18,
   "metadata": {
    "ExecuteTime": {
     "end_time": "2020-04-05T21:20:54.872733Z",
     "start_time": "2020-04-05T21:20:48.557956Z"
    }
   },
   "outputs": [
    {
     "data": {
      "application/vnd.jupyter.widget-view+json": {
       "model_id": "1aadf6d750024e0bbf965d3c4f032cf4",
       "version_major": 2,
       "version_minor": 0
      },
      "text/plain": [
       "HBox(children=(IntProgress(value=0, max=152), HTML(value='')))"
      ]
     },
     "metadata": {},
     "output_type": "display_data"
    },
    {
     "name": "stdout",
     "output_type": "stream",
     "text": [
      "\n"
     ]
    },
    {
     "data": {
      "application/vnd.jupyter.widget-view+json": {
       "model_id": "7c0ab5d978e145629e9a738b4437c212",
       "version_major": 2,
       "version_minor": 0
      },
      "text/plain": [
       "HBox(children=(IntProgress(value=0, max=87), HTML(value='')))"
      ]
     },
     "metadata": {},
     "output_type": "display_data"
    },
    {
     "name": "stdout",
     "output_type": "stream",
     "text": [
      "\n"
     ]
    },
    {
     "data": {
      "application/vnd.jupyter.widget-view+json": {
       "model_id": "c87f1415b75f49478f09f5153016832e",
       "version_major": 2,
       "version_minor": 0
      },
      "text/plain": [
       "HBox(children=(IntProgress(value=0, max=86), HTML(value='')))"
      ]
     },
     "metadata": {},
     "output_type": "display_data"
    },
    {
     "name": "stdout",
     "output_type": "stream",
     "text": [
      "\n"
     ]
    },
    {
     "data": {
      "application/vnd.jupyter.widget-view+json": {
       "model_id": "3f90ca26425b47e79b191cd095bee52f",
       "version_major": 2,
       "version_minor": 0
      },
      "text/plain": [
       "HBox(children=(IntProgress(value=0, max=20), HTML(value='')))"
      ]
     },
     "metadata": {},
     "output_type": "display_data"
    },
    {
     "name": "stdout",
     "output_type": "stream",
     "text": [
      "\n"
     ]
    },
    {
     "data": {
      "application/vnd.jupyter.widget-view+json": {
       "model_id": "4c4cb64dc7da4a508e7bb61668e9da80",
       "version_major": 2,
       "version_minor": 0
      },
      "text/plain": [
       "HBox(children=(IntProgress(value=0, max=12), HTML(value='')))"
      ]
     },
     "metadata": {},
     "output_type": "display_data"
    },
    {
     "name": "stdout",
     "output_type": "stream",
     "text": [
      "\n"
     ]
    }
   ],
   "source": [
    "common_cards = []\n",
    "uncommon_cards = []\n",
    "rare_mythic_cards = []\n",
    "lands = []\n",
    "tokens = []\n",
    "\n",
    "for set_card in set_cards:\n",
    "    \n",
    "    if set_card['supertypes'] == ['Basic']:\n",
    "        lands.append(set_card['scryfallId'])\n",
    "\n",
    "    elif set_card['rarity'] == 'common':\n",
    "        common_cards.append(set_card['scryfallId'])\n",
    "        \n",
    "    elif set_card['rarity'] == 'uncommon':\n",
    "        uncommon_cards.append(set_card['scryfallId'])\n",
    "        \n",
    "    else:\n",
    "        rare_mythic_cards.append(set_card['scryfallId'])\n",
    "        \n",
    "for token in all_cards[mtg_set]['tokens']:\n",
    "    \n",
    "    tokens.append(token['scryfallId'])\n",
    "        \n",
    "common_cards_imgs = [s.get(f'https://api.scryfall.com/cards/{scry_id}').json()['image_uris'][quality]\n",
    "                     for scry_id in tqdm_notebook(common_cards)]\n",
    "\n",
    "uncommon_cards_imgs = [s.get(f'https://api.scryfall.com/cards/{scry_id}').json()['image_uris'][quality]\n",
    "                     for scry_id in tqdm_notebook(uncommon_cards)]\n",
    "\n",
    "rare_mythic_cards_imgs = [s.get(f'https://api.scryfall.com/cards/{scry_id}').json()['image_uris'][quality]\n",
    "                     for scry_id in tqdm_notebook(rare_mythic_cards)]\n",
    "\n",
    "lands_imgs = [s.get(f'https://api.scryfall.com/cards/{scry_id}').json()['image_uris'][quality]\n",
    "                     for scry_id in tqdm_notebook(lands)]\n",
    "\n",
    "tokens_imgs = [s.get(f'https://api.scryfall.com/cards/{scry_id}').json()['image_uris'][quality]\n",
    "                     for scry_id in tqdm_notebook(tokens)]"
   ]
  },
  {
   "cell_type": "code",
   "execution_count": 26,
   "metadata": {
    "ExecuteTime": {
     "end_time": "2020-04-05T21:27:33.567352Z",
     "start_time": "2020-04-05T21:27:33.556018Z"
    }
   },
   "outputs": [
    {
     "data": {
      "text/html": [
       "<img style='width: 225px; margin: 3px; float: left;' src=https://img.scryfall.com/cards/normal/front/c/8/c8a516f8-861b-4c3b-9d9b-0adc04ec689f.jpg?1563900039 /><img style='width: 225px; margin: 3px; float: left;' src=https://img.scryfall.com/cards/normal/front/a/5/a5582cd9-97e7-426f-a084-c05e2113ad13.jpg?1564577944 /><img style='width: 225px; margin: 3px; float: left;' src=https://img.scryfall.com/cards/normal/front/b/8/b8a68347-c0ef-46ff-9705-6d82d004d32c.jpg?1563898570 /><img style='width: 225px; margin: 3px; float: left;' src=https://img.scryfall.com/cards/normal/front/f/7/f766418a-eb1d-4536-ae51-7f3e8969bb78.jpg?1563900279 /><img style='width: 225px; margin: 3px; float: left;' src=https://img.scryfall.com/cards/normal/front/2/7/272e317c-55c4-43b2-91aa-3e0009cfd7d5.jpg?1563900237 /><img style='width: 225px; margin: 3px; float: left;' src=https://img.scryfall.com/cards/normal/front/0/c/0ce89a0b-d0e4-4c71-b131-0d3b0b76bc3b.jpg?1563898250 /><img style='width: 225px; margin: 3px; float: left;' src=https://img.scryfall.com/cards/normal/front/e/f/ef1b12d2-2f4f-4cfd-9728-edf8232c99e7.jpg?1563899988 /><img style='width: 225px; margin: 3px; float: left;' src=https://img.scryfall.com/cards/normal/front/3/9/39934090-36a6-4183-9176-97ea932d2685.jpg?1563899258 /><img style='width: 225px; margin: 3px; float: left;' src=https://img.scryfall.com/cards/normal/front/7/3/73ac5204-69ef-491d-9ca8-f522b99f1412.jpg?1563899812 /><img style='width: 225px; margin: 3px; float: left;' src=https://img.scryfall.com/cards/normal/front/5/c/5c926d38-a741-47a9-8961-f5bcf2909939.jpg?1563900371 /><img style='width: 225px; margin: 3px; float: left;' src=https://img.scryfall.com/cards/normal/front/2/c/2c419a2b-4389-49bc-91f1-a613ffcbfa0b.jpg?1563899617 /><img style='width: 225px; margin: 3px; float: left;' src=https://img.scryfall.com/cards/normal/front/7/a/7a960516-3864-4a7a-8117-d25dec0dd665.jpg?1563898753 /><img style='width: 225px; margin: 3px; float: left;' src=https://img.scryfall.com/cards/normal/front/e/b/eb8434fd-5ee5-4be9-a28d-9e04b1b94327.jpg?1563899434 /><img style='width: 225px; margin: 3px; float: left;' src=https://img.scryfall.com/cards/normal/front/5/1/5195abc4-cfa7-45dd-aa96-2e56f818a17b.jpg?1563899146 /><img style='width: 225px; margin: 3px; float: left;' src=https://img.scryfall.com/cards/normal/front/e/2/e2f39777-b80a-4618-9310-a9e5b91bb2a2.jpg?1563898192 /><img style='width: 225px; margin: 3px; float: left;' src=https://img.scryfall.com/cards/normal/front/4/7/470ca3f4-29aa-4c4c-8ff2-8cdd70c69943.jpg?1583750104 />"
      ],
      "text/plain": [
       "<IPython.core.display.HTML object>"
      ]
     },
     "metadata": {},
     "output_type": "display_data"
    }
   ],
   "source": [
    "booster = random.sample(lands_imgs, 1) +\\\n",
    "            random.sample(tokens_imgs, 1) +\\\n",
    "            random.sample(common_cards_imgs, 10) +\\\n",
    "            random.sample(uncommon_cards_imgs, 3) +\\\n",
    "            random.sample(rare_mythic_cards_imgs, 1)\n",
    "\n",
    "booster_image = ''.join([f\"<img style='width: 225px; margin: 3px; float: left;' src={card} />\" \n",
    "                 for card in booster])\n",
    "\n",
    "display(HTML(booster_image))"
   ]
  },
  {
   "cell_type": "code",
   "execution_count": null,
   "metadata": {},
   "outputs": [],
   "source": []
  }
 ],
 "metadata": {
  "kernelspec": {
   "display_name": "Python 3",
   "language": "python",
   "name": "python3"
  },
  "language_info": {
   "codemirror_mode": {
    "name": "ipython",
    "version": 3
   },
   "file_extension": ".py",
   "mimetype": "text/x-python",
   "name": "python",
   "nbconvert_exporter": "python",
   "pygments_lexer": "ipython3",
   "version": "3.7.2"
  }
 },
 "nbformat": 4,
 "nbformat_minor": 2
}
